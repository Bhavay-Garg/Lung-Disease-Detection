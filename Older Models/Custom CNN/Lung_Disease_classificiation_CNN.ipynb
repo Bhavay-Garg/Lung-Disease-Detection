{
  "nbformat": 4,
  "nbformat_minor": 0,
  "metadata": {
    "colab": {
      "provenance": []
    },
    "kernelspec": {
      "name": "python3",
      "display_name": "Python 3"
    },
    "language_info": {
      "name": "python"
    },
    "gpuClass": "standard",
    "accelerator": "GPU"
  },
  "cells": [
    {
      "cell_type": "code",
      "source": [
        "! git clone https://github.com/Bhavay-Garg/Lung-Disease-Detection.git"
      ],
      "metadata": {
        "colab": {
          "base_uri": "https://localhost:8080/"
        },
        "id": "7HPERp_hFqQN",
        "outputId": "5c8eaa65-1a4d-4d86-898f-0a3f5af5a006"
      },
      "execution_count": 1,
      "outputs": [
        {
          "output_type": "stream",
          "name": "stdout",
          "text": [
            "Cloning into 'Lung-Disease-Detection'...\n",
            "remote: Enumerating objects: 10108, done.\u001b[K\n",
            "remote: Total 10108 (delta 0), reused 0 (delta 0), pack-reused 10108\u001b[K\n",
            "Receiving objects: 100% (10108/10108), 1.97 GiB | 18.12 MiB/s, done.\n",
            "Updating files: 100% (10095/10095), done.\n"
          ]
        }
      ]
    },
    {
      "cell_type": "code",
      "execution_count": 4,
      "metadata": {
        "id": "JbMQQ181DkS8"
      },
      "outputs": [],
      "source": [
        "import matplotlib.pyplot as plt\n",
        "import numpy as np\n",
        "import os\n",
        "import PIL\n",
        "import tensorflow as tf\n",
        "\n",
        "from tensorflow import keras\n",
        "from tensorflow.keras import layers\n",
        "from tensorflow.keras.models import Sequential"
      ]
    },
    {
      "cell_type": "code",
      "source": [
        "import pathlib\n",
        "data_dir = pathlib.Path(\"/content/Lung-Disease-Detection/Dataset/train\")\n",
        "image_count = len(list(data_dir.glob('*/*.jpeg')))\n",
        "print(image_count)"
      ],
      "metadata": {
        "colab": {
          "base_uri": "https://localhost:8080/"
        },
        "id": "0akrVkZCE4-v",
        "outputId": "a464fda6-0735-4894-839f-5ea3c186496e"
      },
      "execution_count": 5,
      "outputs": [
        {
          "output_type": "stream",
          "name": "stdout",
          "text": [
            "4817\n"
          ]
        }
      ]
    },
    {
      "cell_type": "code",
      "source": [
        "batch_size = 32\n",
        "img_height = 250\n",
        "img_width = 250"
      ],
      "metadata": {
        "id": "s-6oghslE86R"
      },
      "execution_count": 6,
      "outputs": []
    },
    {
      "cell_type": "code",
      "source": [
        "train_ds = tf.keras.utils.image_dataset_from_directory(\n",
        "  data_dir,\n",
        "  validation_split=0.2,\n",
        "  subset=\"training\",\n",
        "  seed=123,\n",
        "  image_size=(img_height, img_width),\n",
        "  batch_size=batch_size)"
      ],
      "metadata": {
        "colab": {
          "base_uri": "https://localhost:8080/"
        },
        "id": "nSWrNFKdE_He",
        "outputId": "209827ab-7973-4fac-fafe-c16bab4bc319"
      },
      "execution_count": 7,
      "outputs": [
        {
          "output_type": "stream",
          "name": "stdout",
          "text": [
            "Found 6054 files belonging to 5 classes.\n",
            "Using 4844 files for training.\n"
          ]
        }
      ]
    },
    {
      "cell_type": "code",
      "source": [
        "val_ds = tf.keras.utils.image_dataset_from_directory(\n",
        "  data_dir,\n",
        "  validation_split=0.2,\n",
        "  subset=\"validation\",\n",
        "  seed=123,\n",
        "  image_size=(img_height, img_width),\n",
        "  batch_size=batch_size)"
      ],
      "metadata": {
        "colab": {
          "base_uri": "https://localhost:8080/"
        },
        "id": "gkAs7rbjFBMC",
        "outputId": "10146f0f-5d9e-409f-a97a-ecab2cf05371"
      },
      "execution_count": 8,
      "outputs": [
        {
          "output_type": "stream",
          "name": "stdout",
          "text": [
            "Found 6054 files belonging to 5 classes.\n",
            "Using 1210 files for validation.\n"
          ]
        }
      ]
    },
    {
      "cell_type": "code",
      "source": [
        "class_names = train_ds.class_names\n",
        "print(class_names)"
      ],
      "metadata": {
        "colab": {
          "base_uri": "https://localhost:8080/"
        },
        "id": "C2CMD0nLFDeO",
        "outputId": "39e37019-1df6-4660-eef8-1b21a984188b"
      },
      "execution_count": 9,
      "outputs": [
        {
          "output_type": "stream",
          "name": "stdout",
          "text": [
            "['Bacterial Pneumonia', 'Corona Virus Disease', 'Normal', 'Tuberculosis', 'Viral Pneumonia']\n"
          ]
        }
      ]
    },
    {
      "cell_type": "code",
      "source": [
        "AUTOTUNE = tf.data.AUTOTUNE\n",
        "\n",
        "train_ds = train_ds.cache().shuffle(1000).prefetch(buffer_size=AUTOTUNE)\n",
        "val_ds = val_ds.cache().prefetch(buffer_size=AUTOTUNE)"
      ],
      "metadata": {
        "id": "l3Whi2MBFEIb"
      },
      "execution_count": 10,
      "outputs": []
    },
    {
      "cell_type": "code",
      "source": [
        "normalization_layer = layers.Rescaling(1./255)"
      ],
      "metadata": {
        "id": "ZJRtpdkGFHOL"
      },
      "execution_count": 11,
      "outputs": []
    },
    {
      "cell_type": "code",
      "source": [
        "num_classes = len(class_names)\n",
        "\n",
        "model = Sequential([\n",
        "  layers.Rescaling(1./255, input_shape=(img_height, img_width, 3)),\n",
        "  layers.Conv2D(16, 3, padding='same', activation='relu'),\n",
        "  layers.MaxPooling2D(),\n",
        "  layers.Conv2D(32, 3, padding='same', activation='relu'),\n",
        "  layers.MaxPooling2D(),\n",
        "  layers.Conv2D(64, 3, padding='same', activation='relu'),\n",
        "  layers.MaxPooling2D(),\n",
        "  layers.Flatten(),\n",
        "  layers.Dense(128, activation='relu'),\n",
        "  layers.Dense(num_classes)\n",
        "])"
      ],
      "metadata": {
        "id": "g9hUXFuSFKNK"
      },
      "execution_count": 12,
      "outputs": []
    },
    {
      "cell_type": "code",
      "source": [
        "model.compile(optimizer='adam',\n",
        "              loss=tf.keras.losses.SparseCategoricalCrossentropy(from_logits=True),\n",
        "              metrics=['accuracy'])"
      ],
      "metadata": {
        "id": "RbPQYm0fFPEA"
      },
      "execution_count": 13,
      "outputs": []
    },
    {
      "cell_type": "code",
      "source": [
        "model.summary()"
      ],
      "metadata": {
        "colab": {
          "base_uri": "https://localhost:8080/"
        },
        "id": "gvreX-HIFRSy",
        "outputId": "f22bd6e5-3916-41d2-8541-26d31388c80e"
      },
      "execution_count": 14,
      "outputs": [
        {
          "output_type": "stream",
          "name": "stdout",
          "text": [
            "Model: \"sequential\"\n",
            "_________________________________________________________________\n",
            " Layer (type)                Output Shape              Param #   \n",
            "=================================================================\n",
            " rescaling_1 (Rescaling)     (None, 250, 250, 3)       0         \n",
            "                                                                 \n",
            " conv2d (Conv2D)             (None, 250, 250, 16)      448       \n",
            "                                                                 \n",
            " max_pooling2d (MaxPooling2D  (None, 125, 125, 16)     0         \n",
            " )                                                               \n",
            "                                                                 \n",
            " conv2d_1 (Conv2D)           (None, 125, 125, 32)      4640      \n",
            "                                                                 \n",
            " max_pooling2d_1 (MaxPooling  (None, 62, 62, 32)       0         \n",
            " 2D)                                                             \n",
            "                                                                 \n",
            " conv2d_2 (Conv2D)           (None, 62, 62, 64)        18496     \n",
            "                                                                 \n",
            " max_pooling2d_2 (MaxPooling  (None, 31, 31, 64)       0         \n",
            " 2D)                                                             \n",
            "                                                                 \n",
            " flatten (Flatten)           (None, 61504)             0         \n",
            "                                                                 \n",
            " dense (Dense)               (None, 128)               7872640   \n",
            "                                                                 \n",
            " dense_1 (Dense)             (None, 5)                 645       \n",
            "                                                                 \n",
            "=================================================================\n",
            "Total params: 7,896,869\n",
            "Trainable params: 7,896,869\n",
            "Non-trainable params: 0\n",
            "_________________________________________________________________\n"
          ]
        }
      ]
    },
    {
      "cell_type": "code",
      "source": [
        "epochs=25\n",
        "history = model.fit(\n",
        "  train_ds,\n",
        "  validation_data=val_ds,\n",
        "  epochs=epochs\n",
        ")"
      ],
      "metadata": {
        "colab": {
          "base_uri": "https://localhost:8080/"
        },
        "id": "FrR2gAAiFTY7",
        "outputId": "cfd5565f-1af3-4d70-962f-9feb10f67bc8"
      },
      "execution_count": 15,
      "outputs": [
        {
          "output_type": "stream",
          "name": "stdout",
          "text": [
            "Epoch 1/25\n",
            "152/152 [==============================] - 57s 92ms/step - loss: 0.9692 - accuracy: 0.6422 - val_loss: 0.6313 - val_accuracy: 0.7504\n",
            "Epoch 2/25\n",
            "152/152 [==============================] - 6s 38ms/step - loss: 0.5513 - accuracy: 0.7775 - val_loss: 0.5387 - val_accuracy: 0.7959\n",
            "Epoch 3/25\n",
            "152/152 [==============================] - 6s 36ms/step - loss: 0.4214 - accuracy: 0.8305 - val_loss: 0.5484 - val_accuracy: 0.7917\n",
            "Epoch 4/25\n",
            "152/152 [==============================] - 5s 36ms/step - loss: 0.3486 - accuracy: 0.8658 - val_loss: 0.5859 - val_accuracy: 0.7851\n",
            "Epoch 5/25\n",
            "152/152 [==============================] - 6s 37ms/step - loss: 0.2816 - accuracy: 0.8896 - val_loss: 0.5863 - val_accuracy: 0.7752\n",
            "Epoch 6/25\n",
            "152/152 [==============================] - 5s 36ms/step - loss: 0.2117 - accuracy: 0.9195 - val_loss: 0.6199 - val_accuracy: 0.7926\n",
            "Epoch 7/25\n",
            "152/152 [==============================] - 6s 37ms/step - loss: 0.1651 - accuracy: 0.9358 - val_loss: 0.8222 - val_accuracy: 0.7744\n",
            "Epoch 8/25\n",
            "152/152 [==============================] - 5s 36ms/step - loss: 0.1199 - accuracy: 0.9606 - val_loss: 0.8414 - val_accuracy: 0.7587\n",
            "Epoch 9/25\n",
            "152/152 [==============================] - 6s 37ms/step - loss: 0.0825 - accuracy: 0.9701 - val_loss: 0.9366 - val_accuracy: 0.7744\n",
            "Epoch 10/25\n",
            "152/152 [==============================] - 6s 36ms/step - loss: 0.0507 - accuracy: 0.9849 - val_loss: 1.2412 - val_accuracy: 0.7769\n",
            "Epoch 11/25\n",
            "152/152 [==============================] - 6s 36ms/step - loss: 0.0565 - accuracy: 0.9833 - val_loss: 1.2834 - val_accuracy: 0.7636\n",
            "Epoch 12/25\n",
            "152/152 [==============================] - 6s 37ms/step - loss: 0.0383 - accuracy: 0.9903 - val_loss: 1.3567 - val_accuracy: 0.7769\n",
            "Epoch 13/25\n",
            "152/152 [==============================] - 6s 38ms/step - loss: 0.0159 - accuracy: 0.9957 - val_loss: 1.5751 - val_accuracy: 0.7669\n",
            "Epoch 14/25\n",
            "152/152 [==============================] - 6s 38ms/step - loss: 0.0335 - accuracy: 0.9872 - val_loss: 1.4769 - val_accuracy: 0.7587\n",
            "Epoch 15/25\n",
            "152/152 [==============================] - 6s 37ms/step - loss: 0.0309 - accuracy: 0.9895 - val_loss: 1.5523 - val_accuracy: 0.7661\n",
            "Epoch 16/25\n",
            "152/152 [==============================] - 6s 37ms/step - loss: 0.0239 - accuracy: 0.9936 - val_loss: 1.5977 - val_accuracy: 0.7463\n",
            "Epoch 17/25\n",
            "152/152 [==============================] - 6s 36ms/step - loss: 0.0347 - accuracy: 0.9878 - val_loss: 1.5174 - val_accuracy: 0.7818\n",
            "Epoch 18/25\n",
            "152/152 [==============================] - 7s 45ms/step - loss: 0.0365 - accuracy: 0.9889 - val_loss: 1.6006 - val_accuracy: 0.7645\n",
            "Epoch 19/25\n",
            "152/152 [==============================] - 6s 39ms/step - loss: 0.0164 - accuracy: 0.9957 - val_loss: 1.7702 - val_accuracy: 0.7669\n",
            "Epoch 20/25\n",
            "152/152 [==============================] - 6s 37ms/step - loss: 0.0012 - accuracy: 1.0000 - val_loss: 1.8968 - val_accuracy: 0.7826\n",
            "Epoch 21/25\n",
            "152/152 [==============================] - 6s 36ms/step - loss: 3.3395e-04 - accuracy: 1.0000 - val_loss: 1.9279 - val_accuracy: 0.7843\n",
            "Epoch 22/25\n",
            "152/152 [==============================] - 6s 37ms/step - loss: 2.3207e-04 - accuracy: 1.0000 - val_loss: 1.9781 - val_accuracy: 0.7826\n",
            "Epoch 23/25\n",
            "152/152 [==============================] - 5s 36ms/step - loss: 1.8069e-04 - accuracy: 1.0000 - val_loss: 2.0220 - val_accuracy: 0.7843\n",
            "Epoch 24/25\n",
            "152/152 [==============================] - 6s 36ms/step - loss: 1.4745e-04 - accuracy: 1.0000 - val_loss: 2.0613 - val_accuracy: 0.7818\n",
            "Epoch 25/25\n",
            "152/152 [==============================] - 6s 36ms/step - loss: 1.2459e-04 - accuracy: 1.0000 - val_loss: 2.0884 - val_accuracy: 0.7835\n"
          ]
        }
      ]
    },
    {
      "cell_type": "code",
      "source": [
        "acc = history.history['accuracy']\n",
        "val_acc = history.history['val_accuracy']\n",
        "\n",
        "loss = history.history['loss']\n",
        "val_loss = history.history['val_loss']\n",
        "\n",
        "epochs_range = range(epochs)\n",
        "\n",
        "plt.figure(figsize=(8, 8))\n",
        "plt.subplot(1, 2, 1)\n",
        "plt.plot(epochs_range, acc, label='Training Accuracy')\n",
        "plt.plot(epochs_range, val_acc, label='Validation Accuracy')\n",
        "plt.legend(loc='lower right')\n",
        "plt.title('Training and Validation Accuracy')\n",
        "\n",
        "plt.subplot(1, 2, 2)\n",
        "plt.plot(epochs_range, loss, label='Training Loss')\n",
        "plt.plot(epochs_range, val_loss, label='Validation Loss')\n",
        "plt.legend(loc='upper right')\n",
        "plt.title('Training and Validation Loss')\n",
        "plt.show()"
      ],
      "metadata": {
        "colab": {
          "base_uri": "https://localhost:8080/",
          "height": 699
        },
        "id": "LTMceVSdFWbD",
        "outputId": "953391ab-ae9c-410b-a002-77975ad441d3"
      },
      "execution_count": 16,
      "outputs": [
        {
          "output_type": "display_data",
          "data": {
            "text/plain": [
              "<Figure size 800x800 with 2 Axes>"
            ],
            "image/png": "[encoded data removed]"
          },
          "metadata": {}
        }
      ]
    },
    {
      "cell_type": "code",
      "source": [
        "model.save(\"model1\")"
      ],
      "metadata": {
        "colab": {
          "base_uri": "https://localhost:8080/"
        },
        "id": "iAO8PmT6FadM",
        "outputId": "3ad7737f-df49-400b-fdc7-57b80daf4b17"
      },
      "execution_count": 21,
      "outputs": [
        {
          "output_type": "stream",
          "name": "stderr",
          "text": [
            "WARNING:absl:Found untraced functions such as _jit_compiled_convolution_op, _jit_compiled_convolution_op, _jit_compiled_convolution_op while saving (showing 3 of 3). These functions will not be directly callable after loading.\n"
          ]
        }
      ]
    },
    {
      "cell_type": "code",
      "source": [
        "img = tf.keras.utils.load_img(\n",
        "    \"/content/Lung-Disease-Detection/Dataset/test/Bacterial Pneumonia/217.jpeg\", target_size=(img_height, img_width)\n",
        ")\n",
        "img_array = tf.keras.utils.img_to_array(img)\n",
        "img_array = tf.expand_dims(img_array, 0) # Create a batch\n",
        "\n",
        "predictions = model.predict(img_array)\n",
        "score = tf.nn.softmax(predictions[0])\n",
        "\n",
        "print(\n",
        "    \"This image most likely belongs to {} with a {:.2f} percent confidence.\"\n",
        "    .format(class_names[np.argmax(score)], 100 * np.max(score))\n",
        ")"
      ],
      "metadata": {
        "colab": {
          "base_uri": "https://localhost:8080/"
        },
        "id": "483dB77YFcZ8",
        "outputId": "acdd6ca1-aa51-464d-befd-8aa9488fa96d"
      },
      "execution_count": 20,
      "outputs": [
        {
          "output_type": "stream",
          "name": "stdout",
          "text": [
            "1/1 [==============================] - 0s 20ms/step\n",
            "This image most likely belongs to Bacterial Pneumonia with a 99.98 percent confidence.\n"
          ]
        }
      ]
    },
    {
      "cell_type": "code",
      "source": [
        "import shutil\n",
        "shutil.make_archive('model1', 'zip', 'model1')"
      ],
      "metadata": {
        "colab": {
          "base_uri": "https://localhost:8080/",
          "height": 35
        },
        "id": "q_rmK5wcSgPy",
        "outputId": "78f938e2-1f50-456b-a537-229df5a1f6b5"
      },
      "execution_count": 22,
      "outputs": [
        {
          "output_type": "execute_result",
          "data": {
            "text/plain": [
              "'/content/model1.zip'"
            ],
            "application/vnd.google.colaboratory.intrinsic+json": {
              "type": "string"
            }
          },
          "metadata": {},
          "execution_count": 22
        }
      ]
    }
  ]
}