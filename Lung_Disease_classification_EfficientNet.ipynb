{
  "nbformat": 4,
  "nbformat_minor": 0,
  "metadata": {
    "colab": {
      "provenance": []
    },
    "kernelspec": {
      "name": "python3",
      "display_name": "Python 3"
    },
    "language_info": {
      "name": "python"
    },
    "gpuClass": "standard",
    "accelerator": "GPU"
  },
  "cells": [
    {
      "cell_type": "code",
      "execution_count": 1,
      "metadata": {
        "colab": {
          "base_uri": "https://localhost:8080/"
        },
        "id": "IIzBBR_SoFcX",
        "outputId": "420194f8-31b8-477c-cc18-32b0a05128d4"
      },
      "outputs": [
        {
          "output_type": "stream",
          "name": "stdout",
          "text": [
            "Cloning into 'Lung-Disease-Detection'...\n",
            "remote: Enumerating objects: 10108, done.\u001b[K\n",
            "remote: Total 10108 (delta 0), reused 0 (delta 0), pack-reused 10108\u001b[K\n",
            "Receiving objects: 100% (10108/10108), 1.97 GiB | 18.58 MiB/s, done.\n",
            "Updating files: 100% (10095/10095), done.\n"
          ]
        }
      ],
      "source": [
        "! git clone https://github.com/Bhavay-Garg/Lung-Disease-Detection.git"
      ]
    },
    {
      "cell_type": "code",
      "source": [
        "from tensorflow.keras.applications import EfficientNetB0\n",
        "model = EfficientNetB0(include_top=False, weights='imagenet')"
      ],
      "metadata": {
        "id": "HHrHH54egsKo"
      },
      "execution_count": 1,
      "outputs": []
    },
    {
      "cell_type": "code",
      "source": [
        "IMG_SIZE = 224"
      ],
      "metadata": {
        "id": "A6u00TBJg_ci"
      },
      "execution_count": 2,
      "outputs": []
    },
    {
      "cell_type": "code",
      "source": [
        "import tensorflow as tf\n",
        "\n",
        "try:\n",
        "    tpu = tf.distribute.cluster_resolver.TPUClusterResolver.connect()\n",
        "    print(\"Device:\", tpu.master())\n",
        "    strategy = tf.distribute.TPUStrategy(tpu)\n",
        "except ValueError:\n",
        "    print(\"Not connected to a TPU runtime. Using CPU/GPU strategy\")\n",
        "    strategy = tf.distribute.MirroredStrategy()"
      ],
      "metadata": {
        "colab": {
          "base_uri": "https://localhost:8080/"
        },
        "id": "8k7PEt_nhDTi",
        "outputId": "356607c0-1af7-4447-9cc8-73684dec6b81"
      },
      "execution_count": 3,
      "outputs": [
        {
          "output_type": "stream",
          "name": "stdout",
          "text": [
            "Not connected to a TPU runtime. Using CPU/GPU strategy\n"
          ]
        }
      ]
    },
    {
      "cell_type": "code",
      "source": [
        "import tensorflow_datasets as tfds\n",
        "\n",
        "batch_size = 64\n",
        "\n",
        "builder = tfds.ImageFolder('/content/Lung-Disease-Detection/Dataset')\n",
        "\n",
        "\n",
        "train_ds=ds = builder.as_dataset(split='train', shuffle_files=True,as_supervised=True)\n",
        "test_ds=ds = builder.as_dataset(split='test', shuffle_files=True,as_supervised=True)\n",
        "builder.info"
      ],
      "metadata": {
        "colab": {
          "base_uri": "https://localhost:8080/"
        },
        "id": "APGV44sthI6j",
        "outputId": "76f70dce-6a75-4053-be9f-60fa554ec48f"
      },
      "execution_count": 4,
      "outputs": [
        {
          "output_type": "execute_result",
          "data": {
            "text/plain": [
              "tfds.core.DatasetInfo(\n",
              "    name='image_folder',\n",
              "    full_name='image_folder/1.0.0',\n",
              "    description=\"\"\"\n",
              "    Generic image classification dataset.\n",
              "    \"\"\",\n",
              "    homepage='https://www.tensorflow.org/datasets/catalog/image_folder',\n",
              "    data_path='/content/Lung-Disease-Detection/Dataset',\n",
              "    file_format=tfrecord,\n",
              "    download_size=Unknown size,\n",
              "    dataset_size=Unknown size,\n",
              "    features=FeaturesDict({\n",
              "        'image': Image(shape=(None, None, 3), dtype=uint8),\n",
              "        'image/filename': Text(shape=(), dtype=string),\n",
              "        'label': ClassLabel(shape=(), dtype=int64, num_classes=5),\n",
              "    }),\n",
              "    supervised_keys=('image', 'label'),\n",
              "    disable_shuffling=False,\n",
              "    splits={\n",
              "        'test': <SplitInfo num_examples=2025, num_shards=1>,\n",
              "        'train': <SplitInfo num_examples=6054, num_shards=1>,\n",
              "        'val': <SplitInfo num_examples=2016, num_shards=1>,\n",
              "    },\n",
              "    citation=\"\"\"\"\"\",\n",
              ")"
            ]
          },
          "metadata": {},
          "execution_count": 4
        }
      ]
    },
    {
      "cell_type": "code",
      "source": [
        "tfds.show_examples(train_ds, builder.info)"
      ],
      "metadata": {
        "id": "lHJ2j1rJj13a"
      },
      "execution_count": null,
      "outputs": []
    },
    {
      "cell_type": "code",
      "source": [
        "size = (IMG_SIZE, IMG_SIZE)\n",
        "NUM_CLASSES=5\n",
        "train_ds = train_ds.map(lambda image, label: (tf.image.resize(image, size), label))\n",
        "test_ds = test_ds.map(lambda image, label: (tf.image.resize(image, size), label))"
      ],
      "metadata": {
        "id": "gKXDgao-nird"
      },
      "execution_count": 5,
      "outputs": []
    },
    {
      "cell_type": "code",
      "source": [
        "# One-hot / categorical encoding\n",
        "def input_preprocess(image, label):\n",
        "    label = tf.one_hot(label, NUM_CLASSES)\n",
        "    return image, label\n",
        "\n",
        "\n",
        "train_ds = train_ds.map(\n",
        "    input_preprocess, num_parallel_calls=tf.data.AUTOTUNE\n",
        ")\n",
        "train_ds = train_ds.batch(batch_size=batch_size, drop_remainder=True)\n",
        "train_ds = train_ds.prefetch(tf.data.AUTOTUNE)\n",
        "\n",
        "test_ds = test_ds.map(input_preprocess)\n",
        "test_ds = test_ds.batch(batch_size=batch_size, drop_remainder=True)"
      ],
      "metadata": {
        "id": "vcvaiAvfpxQs"
      },
      "execution_count": 6,
      "outputs": []
    },
    {
      "cell_type": "code",
      "source": [
        "from tensorflow.keras.models import Sequential\n",
        "from tensorflow.keras import layers\n",
        "\n",
        "img_augmentation = Sequential(\n",
        "    [\n",
        "        layers.RandomRotation(factor=0.15),\n",
        "        layers.RandomTranslation(height_factor=0.1, width_factor=0.1),\n",
        "        layers.RandomFlip(),\n",
        "        layers.RandomContrast(factor=0.1),\n",
        "    ],\n",
        "    name=\"img_augmentation\",\n",
        ")"
      ],
      "metadata": {
        "id": "CIe0Rw0FqkEb"
      },
      "execution_count": 7,
      "outputs": []
    },
    {
      "cell_type": "code",
      "source": [
        "from tensorflow.keras.applications import EfficientNetB0\n",
        "from tensorflow.keras import layers\n",
        "\n",
        "with strategy.scope():\n",
        "    inputs = layers.Input(shape=(IMG_SIZE, IMG_SIZE, 3))\n",
        "    x = img_augmentation(inputs)\n",
        "    outputs = EfficientNetB0(include_top=True, weights=None, classes=5)(x)\n",
        "\n",
        "    model = tf.keras.Model(inputs, outputs)\n",
        "    model.compile(\n",
        "        optimizer=\"adam\", loss=\"categorical_crossentropy\", metrics=[\"accuracy\"]\n",
        "    )\n",
        "\n",
        "model.summary()\n",
        "\n",
        "epochs = 25  \n",
        "hist = model.fit(train_ds, epochs=epochs, validation_data=test_ds, verbose=2)"
      ],
      "metadata": {
        "colab": {
          "base_uri": "https://localhost:8080/"
        },
        "id": "tsBu_vInhjof",
        "outputId": "5825c7cf-d819-4b28-e755-a9140b47288a"
      },
      "execution_count": 8,
      "outputs": [
        {
          "output_type": "stream",
          "name": "stdout",
          "text": [
            "Model: \"model\"\n",
            "_________________________________________________________________\n",
            " Layer (type)                Output Shape              Param #   \n",
            "=================================================================\n",
            " input_2 (InputLayer)        [(None, 224, 224, 3)]     0         \n",
            "                                                                 \n",
            " img_augmentation (Sequentia  (None, 224, 224, 3)      0         \n",
            " l)                                                              \n",
            "                                                                 \n",
            " efficientnetb0 (Functional)  (None, 5)                4055976   \n",
            "                                                                 \n",
            "=================================================================\n",
            "Total params: 4,055,976\n",
            "Trainable params: 4,013,953\n",
            "Non-trainable params: 42,023\n",
            "_________________________________________________________________\n",
            "Epoch 1/25\n",
            "94/94 - 110s - loss: 1.7137 - accuracy: 0.4663 - val_loss: 1.9839 - val_accuracy: 0.1971 - 110s/epoch - 1s/step\n",
            "Epoch 2/25\n",
            "94/94 - 60s - loss: 0.9229 - accuracy: 0.6182 - val_loss: 2.8159 - val_accuracy: 0.1991 - 60s/epoch - 642ms/step\n",
            "Epoch 3/25\n",
            "94/94 - 60s - loss: 0.7567 - accuracy: 0.6772 - val_loss: 3.0860 - val_accuracy: 0.2737 - 60s/epoch - 640ms/step\n",
            "Epoch 4/25\n",
            "94/94 - 60s - loss: 0.6850 - accuracy: 0.7156 - val_loss: 2.6873 - val_accuracy: 0.3170 - 60s/epoch - 634ms/step\n",
            "Epoch 5/25\n",
            "94/94 - 60s - loss: 0.6615 - accuracy: 0.7207 - val_loss: 1.3310 - val_accuracy: 0.5691 - 60s/epoch - 642ms/step\n",
            "Epoch 6/25\n",
            "94/94 - 60s - loss: 0.6159 - accuracy: 0.7372 - val_loss: 0.5792 - val_accuracy: 0.7631 - 60s/epoch - 640ms/step\n",
            "Epoch 7/25\n",
            "94/94 - 60s - loss: 0.6384 - accuracy: 0.7367 - val_loss: 884.6105 - val_accuracy: 0.1996 - 60s/epoch - 638ms/step\n",
            "Epoch 8/25\n",
            "94/94 - 60s - loss: 0.6054 - accuracy: 0.7385 - val_loss: 1.8364 - val_accuracy: 0.5343 - 60s/epoch - 639ms/step\n",
            "Epoch 9/25\n",
            "94/94 - 59s - loss: 0.5685 - accuracy: 0.7625 - val_loss: 0.8501 - val_accuracy: 0.6789 - 59s/epoch - 625ms/step\n",
            "Epoch 10/25\n",
            "94/94 - 60s - loss: 0.5425 - accuracy: 0.7764 - val_loss: 0.5911 - val_accuracy: 0.7727 - 60s/epoch - 637ms/step\n",
            "Epoch 11/25\n",
            "94/94 - 60s - loss: 0.5246 - accuracy: 0.7808 - val_loss: 0.5191 - val_accuracy: 0.7913 - 60s/epoch - 641ms/step\n",
            "Epoch 12/25\n",
            "94/94 - 61s - loss: 0.5387 - accuracy: 0.7861 - val_loss: 0.8242 - val_accuracy: 0.6820 - 61s/epoch - 646ms/step\n",
            "Epoch 13/25\n",
            "94/94 - 60s - loss: 0.5740 - accuracy: 0.7704 - val_loss: 8.5440 - val_accuracy: 0.4506 - 60s/epoch - 635ms/step\n",
            "Epoch 14/25\n",
            "94/94 - 59s - loss: 0.5395 - accuracy: 0.7756 - val_loss: 0.6518 - val_accuracy: 0.7757 - 59s/epoch - 628ms/step\n",
            "Epoch 15/25\n",
            "94/94 - 60s - loss: 0.5358 - accuracy: 0.7816 - val_loss: 0.9109 - val_accuracy: 0.6421 - 60s/epoch - 637ms/step\n",
            "Epoch 16/25\n",
            "94/94 - 60s - loss: 0.4875 - accuracy: 0.7977 - val_loss: 0.4828 - val_accuracy: 0.8075 - 60s/epoch - 634ms/step\n",
            "Epoch 17/25\n",
            "94/94 - 59s - loss: 0.4790 - accuracy: 0.7972 - val_loss: 0.4671 - val_accuracy: 0.8155 - 59s/epoch - 633ms/step\n",
            "Epoch 18/25\n",
            "94/94 - 68s - loss: 0.4661 - accuracy: 0.8050 - val_loss: 0.4377 - val_accuracy: 0.8261 - 68s/epoch - 721ms/step\n",
            "Epoch 19/25\n",
            "94/94 - 60s - loss: 0.4574 - accuracy: 0.8085 - val_loss: 0.6808 - val_accuracy: 0.7424 - 60s/epoch - 635ms/step\n",
            "Epoch 20/25\n",
            "94/94 - 69s - loss: 0.4616 - accuracy: 0.8037 - val_loss: 0.4440 - val_accuracy: 0.8281 - 69s/epoch - 731ms/step\n",
            "Epoch 21/25\n",
            "94/94 - 58s - loss: 0.4543 - accuracy: 0.8092 - val_loss: 0.4238 - val_accuracy: 0.8216 - 58s/epoch - 619ms/step\n",
            "Epoch 22/25\n",
            "94/94 - 61s - loss: 0.4373 - accuracy: 0.8173 - val_loss: 0.4842 - val_accuracy: 0.8100 - 61s/epoch - 644ms/step\n",
            "Epoch 23/25\n",
            "94/94 - 60s - loss: 0.4350 - accuracy: 0.8205 - val_loss: 0.5040 - val_accuracy: 0.8090 - 60s/epoch - 640ms/step\n",
            "Epoch 24/25\n",
            "94/94 - 69s - loss: 0.4331 - accuracy: 0.8153 - val_loss: 0.5506 - val_accuracy: 0.7853 - 69s/epoch - 732ms/step\n",
            "Epoch 25/25\n",
            "94/94 - 68s - loss: 0.4163 - accuracy: 0.8288 - val_loss: 0.5158 - val_accuracy: 0.8115 - 68s/epoch - 726ms/step\n"
          ]
        }
      ]
    },
    {
      "cell_type": "code",
      "source": [
        "import matplotlib.pyplot as plt\n",
        "\n",
        "\n",
        "def plot_hist(hist):\n",
        "    plt.plot(hist.history[\"accuracy\"])\n",
        "    plt.plot(hist.history[\"val_accuracy\"])\n",
        "    plt.title(\"model accuracy\")\n",
        "    plt.ylabel(\"accuracy\")\n",
        "    plt.xlabel(\"epoch\")\n",
        "    plt.legend([\"train\", \"validation\"], loc=\"upper left\")\n",
        "    plt.show()\n",
        "\n",
        "\n",
        "plot_hist(hist)"
      ],
      "metadata": {
        "colab": {
          "base_uri": "https://localhost:8080/",
          "height": 472
        },
        "id": "0K_-yw4rwVFq",
        "outputId": "d3724507-a64a-427d-f7c7-aac221e81bd5"
      },
      "execution_count": 9,
      "outputs": [
        {
          "output_type": "display_data",
          "data": {
            "text/plain": [
              "<Figure size 640x480 with 1 Axes>"
            ],
            "image/png": "[encoded data removed]"
          },
          "metadata": {}
        }
      ]
    },
    {
      "cell_type": "code",
      "source": [
        "model.save(\"model\")\n",
        "model.save(\"model.h5\")\n"
      ],
      "metadata": {
        "colab": {
          "base_uri": "https://localhost:8080/"
        },
        "id": "teI6ag6nwkUu",
        "outputId": "490bf59d-f7a8-467b-de72-d1ecfee865a5"
      },
      "execution_count": 10,
      "outputs": [
        {
          "output_type": "stream",
          "name": "stderr",
          "text": [
            "WARNING:absl:Found untraced functions such as _jit_compiled_convolution_op, _jit_compiled_convolution_op, _jit_compiled_convolution_op, _jit_compiled_convolution_op, _jit_compiled_convolution_op while saving (showing 5 of 81). These functions will not be directly callable after loading.\n"
          ]
        }
      ]
    },
    {
      "cell_type": "code",
      "source": [
        "import shutil\n",
        "shutil.make_archive('model', 'zip', 'model')"
      ],
      "metadata": {
        "colab": {
          "base_uri": "https://localhost:8080/",
          "height": 35
        },
        "id": "dsuAgu5a8AMG",
        "outputId": "11a73eed-8122-4188-ef6d-2aa6638b8fa2"
      },
      "execution_count": 11,
      "outputs": [
        {
          "output_type": "execute_result",
          "data": {
            "text/plain": [
              "'/content/model.zip'"
            ],
            "application/vnd.google.colaboratory.intrinsic+json": {
              "type": "string"
            }
          },
          "metadata": {},
          "execution_count": 11
        }
      ]
    }
  ]
}