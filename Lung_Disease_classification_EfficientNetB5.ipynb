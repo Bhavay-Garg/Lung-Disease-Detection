{
  "cells": [
    {
      "cell_type": "code",
      "execution_count": null,
      "metadata": {
        "colab": {
          "base_uri": "https://localhost:8080/"
        },
        "id": "IIzBBR_SoFcX",
        "outputId": "34612b21-8383-4118-ca5d-eb14b7937a8f"
      },
      "outputs": [
        {
          "name": "stdout",
          "output_type": "stream",
          "text": [
            "Cloning into 'Lung-Disease-Detection'...\n",
            "remote: Enumerating objects: 10118, done.\u001b[K\n",
            "remote: Counting objects: 100% (10/10), done.\u001b[K\n",
            "remote: Compressing objects: 100% (9/9), done.\u001b[K\n",
            "remote: Total 10118 (delta 1), reused 10 (delta 1), pack-reused 10108\u001b[K\n",
            "Receiving objects: 100% (10118/10118), 2.17 GiB | 28.71 MiB/s, done.\n",
            "Resolving deltas: 100% (1/1), done.\n",
            "Updating files: 100% (10101/10101), done.\n"
          ]
        }
      ],
      "source": [
        "! git clone https://github.com/Bhavay-Garg/Lung-Disease-Detection.git"
      ]
    },
    {
      "cell_type": "code",
      "execution_count": null,
      "metadata": {
        "id": "HHrHH54egsKo"
      },
      "outputs": [],
      "source": [
        "from tensorflow.keras.applications import EfficientNetB5\n",
        "model = EfficientNetB5(include_top=False, weights='imagenet')"
      ]
    },
    {
      "cell_type": "code",
      "execution_count": null,
      "metadata": {
        "id": "A6u00TBJg_ci"
      },
      "outputs": [],
      "source": [
        "IMG_SIZE = 456"
      ]
    },
    {
      "cell_type": "code",
      "execution_count": null,
      "metadata": {
        "colab": {
          "base_uri": "https://localhost:8080/"
        },
        "id": "8k7PEt_nhDTi",
        "outputId": "8258f792-5e03-47d3-dce5-67942527fd92"
      },
      "outputs": [
        {
          "name": "stdout",
          "output_type": "stream",
          "text": [
            "Not connected to a TPU runtime. Using CPU/GPU strategy\n"
          ]
        }
      ],
      "source": [
        "import tensorflow as tf\n",
        "\n",
        "try:\n",
        "    tpu = tf.distribute.cluster_resolver.TPUClusterResolver.connect()\n",
        "    print(\"Device:\", tpu.master())\n",
        "    strategy = tf.distribute.TPUStrategy(tpu)\n",
        "except ValueError:\n",
        "    print(\"Not connected to a TPU runtime. Using CPU/GPU strategy\")\n",
        "    strategy = tf.distribute.MirroredStrategy()"
      ]
    },
    {
      "cell_type": "code",
      "execution_count": null,
      "metadata": {
        "colab": {
          "base_uri": "https://localhost:8080/"
        },
        "id": "APGV44sthI6j",
        "outputId": "f7c1df2a-74e3-4a38-c1b4-4b1f872bf949"
      },
      "outputs": [
        {
          "data": {
            "text/plain": [
              "tfds.core.DatasetInfo(\n",
              "    name='image_folder',\n",
              "    full_name='image_folder/1.0.0',\n",
              "    description=\"\"\"\n",
              "    Generic image classification dataset.\n",
              "    \"\"\",\n",
              "    homepage='https://www.tensorflow.org/datasets/catalog/image_folder',\n",
              "    data_path='/root/tensorflow_datasets/image_folder/1.0.0',\n",
              "    file_format=tfrecord,\n",
              "    download_size=Unknown size,\n",
              "    dataset_size=Unknown size,\n",
              "    features=FeaturesDict({\n",
              "        'image': Image(shape=(None, None, 3), dtype=uint8),\n",
              "        'image/filename': Text(shape=(), dtype=string),\n",
              "        'label': ClassLabel(shape=(), dtype=int64, num_classes=5),\n",
              "    }),\n",
              "    supervised_keys=('image', 'label'),\n",
              "    disable_shuffling=False,\n",
              "    splits={\n",
              "        'test': <SplitInfo num_examples=2025, num_shards=1>,\n",
              "        'train': <SplitInfo num_examples=6054, num_shards=1>,\n",
              "        'val': <SplitInfo num_examples=2016, num_shards=1>,\n",
              "    },\n",
              "    citation=\"\"\"\"\"\",\n",
              ")"
            ]
          },
          "execution_count": 14,
          "metadata": {},
          "output_type": "execute_result"
        }
      ],
      "source": [
        "import tensorflow_datasets as tfds\n",
        "\n",
        "batch_size = 8\n",
        "\n",
        "builder = tfds.ImageFolder('/content/Lung-Disease-Detection/Dataset')\n",
        "\n",
        "\n",
        "train_ds=ds = builder.as_dataset(split='train', shuffle_files=True,as_supervised=True)\n",
        "test_ds=ds = builder.as_dataset(split='test', shuffle_files=True,as_supervised=True)\n",
        "builder.info"
      ]
    },
    {
      "cell_type": "code",
      "execution_count": null,
      "metadata": {
        "id": "lHJ2j1rJj13a"
      },
      "outputs": [],
      "source": [
        "tfds.show_examples(train_ds, builder.info)"
      ]
    },
    {
      "cell_type": "code",
      "execution_count": null,
      "metadata": {
        "id": "gKXDgao-nird"
      },
      "outputs": [],
      "source": [
        "size = (IMG_SIZE, IMG_SIZE)\n",
        "NUM_CLASSES=5\n",
        "train_ds = train_ds.map(lambda image, label: (tf.image.resize(image, size), label))\n",
        "test_ds = test_ds.map(lambda image, label: (tf.image.resize(image, size), label))"
      ]
    },
    {
      "cell_type": "code",
      "execution_count": null,
      "metadata": {
        "id": "vcvaiAvfpxQs"
      },
      "outputs": [],
      "source": [
        "# One-hot / categorical encoding\n",
        "def input_preprocess(image, label):\n",
        "    label = tf.one_hot(label, NUM_CLASSES)\n",
        "    return image, label\n",
        "\n",
        "\n",
        "train_ds = train_ds.map(\n",
        "    input_preprocess, num_parallel_calls=tf.data.AUTOTUNE\n",
        ")\n",
        "train_ds = train_ds.batch(batch_size=batch_size, drop_remainder=True)\n",
        "train_ds = train_ds.prefetch(tf.data.AUTOTUNE)\n",
        "\n",
        "test_ds = test_ds.map(input_preprocess)\n",
        "test_ds = test_ds.batch(batch_size=batch_size, drop_remainder=True)"
      ]
    },
    {
      "cell_type": "code",
      "execution_count": null,
      "metadata": {
        "id": "CIe0Rw0FqkEb"
      },
      "outputs": [],
      "source": [
        "from tensorflow.keras.models import Sequential\n",
        "from tensorflow.keras import layers\n",
        "\n",
        "img_augmentation = Sequential(\n",
        "    [\n",
        "        layers.RandomRotation(factor=0.15),\n",
        "        layers.RandomTranslation(height_factor=0.1, width_factor=0.1),\n",
        "        layers.RandomFlip(),\n",
        "        layers.RandomContrast(factor=0.1),\n",
        "    ],\n",
        "    name=\"img_augmentation\",\n",
        ")"
      ]
    },
    {
      "cell_type": "code",
      "execution_count": null,
      "metadata": {
        "id": "Qhapl1ZGCY0W"
      },
      "outputs": [],
      "source": [
        "from tensorflow.keras.callbacks import EarlyStopping\n",
        "early_stopping = EarlyStopping(monitor='val_loss', mode='min', verbose=1, patience=3)"
      ]
    },
    {
      "cell_type": "code",
      "execution_count": null,
      "metadata": {
        "colab": {
          "background_save": true,
          "base_uri": "https://localhost:8080/"
        },
        "id": "tsBu_vInhjof",
        "outputId": "804f7b54-a76a-46f4-a58f-5a453f13bfe0"
      },
      "outputs": [
        {
          "name": "stdout",
          "output_type": "stream",
          "text": [
            "Model: \"model_1\"\n",
            "_________________________________________________________________\n",
            " Layer (type)                Output Shape              Param #   \n",
            "=================================================================\n",
            " input_5 (InputLayer)        [(None, 456, 456, 3)]     0         \n",
            "                                                                 \n",
            " img_augmentation (Sequentia  (None, 456, 456, 3)      0         \n",
            " l)                                                              \n",
            "                                                                 \n",
            " efficientnetb5 (Functional)  (None, 5)                28523772  \n",
            "                                                                 \n",
            "=================================================================\n",
            "Total params: 28,523,772\n",
            "Trainable params: 28,351,029\n",
            "Non-trainable params: 172,743\n",
            "_________________________________________________________________\n",
            "Epoch 1/75\n",
            "756/756 - 886s - loss: 1.8092 - accuracy: 0.4398 - val_loss: 1.4452 - val_accuracy: 0.5173 - 886s/epoch - 1s/step\n",
            "Epoch 2/75\n",
            "756/756 - 779s - loss: 1.0612 - accuracy: 0.5613 - val_loss: 1.2112 - val_accuracy: 0.5707 - 779s/epoch - 1s/step\n",
            "Epoch 3/75\n",
            "756/756 - 812s - loss: 0.8793 - accuracy: 0.6331 - val_loss: 0.6739 - val_accuracy: 0.7011 - 812s/epoch - 1s/step\n",
            "Epoch 4/75\n",
            "756/756 - 780s - loss: 0.8374 - accuracy: 0.6422 - val_loss: 0.6031 - val_accuracy: 0.7549 - 780s/epoch - 1s/step\n",
            "Epoch 5/75\n",
            "756/756 - 781s - loss: 0.8198 - accuracy: 0.6491 - val_loss: 0.6892 - val_accuracy: 0.6976 - 781s/epoch - 1s/step\n",
            "Epoch 6/75\n",
            "756/756 - 780s - loss: 0.7407 - accuracy: 0.6862 - val_loss: 0.9196 - val_accuracy: 0.6937 - 780s/epoch - 1s/step\n",
            "Epoch 7/75\n",
            "756/756 - 780s - loss: 0.7481 - accuracy: 0.6915 - val_loss: 0.7959 - val_accuracy: 0.6685 - 780s/epoch - 1s/step\n",
            "Epoch 7: early stopping\n"
          ]
        }
      ],
      "source": [
        "from tensorflow.keras.applications import EfficientNetB5\n",
        "from tensorflow.keras import layers\n",
        "\n",
        "with strategy.scope():\n",
        "    inputs = layers.Input(shape=(IMG_SIZE, IMG_SIZE, 3))\n",
        "    x = img_augmentation(inputs)\n",
        "    outputs = EfficientNetB5(include_top=True, weights=None, classes=5)(x)\n",
        "\n",
        "    model = tf.keras.Model(inputs, outputs)\n",
        "    model.compile(\n",
        "        optimizer=\"adam\", loss=\"categorical_crossentropy\", metrics=[\"accuracy\"]\n",
        "    )\n",
        "\n",
        "model.summary()\n",
        "\n",
        "epochs = 75\n",
        "hist = model.fit(train_ds, epochs=epochs, validation_data=test_ds, verbose=2, callbacks=[early_stopping])"
      ]
    },
    {
      "cell_type": "code",
      "execution_count": null,
      "metadata": {
        "id": "0K_-yw4rwVFq",
        "colab": {
          "base_uri": "https://localhost:8080/",
          "height": 472
        },
        "outputId": "d908f545-1a09-41dd-e261-20a46cc22503"
      },
      "outputs": [
        {
          "output_type": "display_data",
          "data": {
            "text/plain": [
              "<Figure size 640x480 with 1 Axes>"
            ],
            "image/png": "[encoded data removed]"
          },
          "metadata": {}
        }
      ],
      "source": [
        "import matplotlib.pyplot as plt\n",
        "\n",
        "\n",
        "def plot_hist(hist):\n",
        "    plt.plot(hist.history[\"accuracy\"])\n",
        "    plt.plot(hist.history[\"val_accuracy\"])\n",
        "    plt.title(\"model accuracy\")\n",
        "    plt.ylabel(\"accuracy\")\n",
        "    plt.xlabel(\"epoch\")\n",
        "    plt.legend([\"train\", \"validation\"], loc=\"upper left\")\n",
        "    plt.show()\n",
        "\n",
        "\n",
        "plot_hist(hist)"
      ]
    },
    {
      "cell_type": "code",
      "execution_count": null,
      "metadata": {
        "colab": {
          "base_uri": "https://localhost:8080/"
        },
        "id": "teI6ag6nwkUu",
        "outputId": "d68b8b09-f1f1-4069-cfb7-e895a5867903"
      },
      "outputs": [
        {
          "output_type": "stream",
          "name": "stderr",
          "text": [
            "WARNING:absl:Found untraced functions such as _jit_compiled_convolution_op, _jit_compiled_convolution_op, _jit_compiled_convolution_op, _jit_compiled_convolution_op, _jit_compiled_convolution_op while saving (showing 5 of 194). These functions will not be directly callable after loading.\n"
          ]
        }
      ],
      "source": [
        "model.save(\"model\")\n",
        "model.save(\"model.h5\")\n"
      ]
    },
    {
      "cell_type": "code",
      "execution_count": null,
      "metadata": {
        "colab": {
          "base_uri": "https://localhost:8080/",
          "height": 35
        },
        "id": "dsuAgu5a8AMG",
        "outputId": "6d7c0623-21c0-426f-b959-2b54768cf576"
      },
      "outputs": [
        {
          "output_type": "execute_result",
          "data": {
            "text/plain": [
              "'/content/model.zip'"
            ],
            "application/vnd.google.colaboratory.intrinsic+json": {
              "type": "string"
            }
          },
          "metadata": {},
          "execution_count": 22
        }
      ],
      "source": [
        "import shutil\n",
        "shutil.make_archive('model', 'zip', 'model')"
      ]
    }
  ],
  "metadata": {
    "accelerator": "GPU",
    "colab": {
      "provenance": []
    },
    "kernelspec": {
      "display_name": "Python 3",
      "name": "python3"
    },
    "language_info": {
      "name": "python"
    }
  },
  "nbformat": 4,
  "nbformat_minor": 0
}